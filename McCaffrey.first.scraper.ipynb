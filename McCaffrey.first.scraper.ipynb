{
 "cells": [
  {
   "cell_type": "code",
   "execution_count": 4,
   "metadata": {},
   "outputs": [
    {
     "name": "stdout",
     "output_type": "stream",
     "text": [
      "b'<!DOCTYPE html>\\n<!--[if IEMobile 7]><html class=\"iem7\"  lang=\"en\" dir=\"ltr\"><![endif]-->\\n<!--[if lte'\n"
     ]
    }
   ],
   "source": [
    "#This is Python's requests library.\n",
    "import requests\n",
    "#The variable 'url' will contain the page's url.\n",
    "url = 'https://www.allsides.com/media-bias/media-bias-ratings'\n",
    "#The variable 'r' will contain all requests made to the url.\n",
    "r = requests.get(url)\n",
    "#Let's print a fraction of the HTML characters that will appear.\n",
    "print(r.content[:100])"
   ]
  },
  {
   "cell_type": "code",
   "execution_count": 5,
   "metadata": {},
   "outputs": [],
   "source": [
    "#BeautifulSoup is the Python library that pulls data from HTML and XML files.\n",
    "from bs4 import BeautifulSoup\n",
    "#Next, we'll make a variable called soup. The url's content goes inside the brackets. Then, we call the content of the variable 'r' and specify the type of parser to use.\n",
    "soup = BeautifulSoup(r.content, 'html.parser')"
   ]
  },
  {
   "cell_type": "code",
   "execution_count": 6,
   "metadata": {},
   "outputs": [],
   "source": [
    "rows = soup.select('tbody tr')"
   ]
  },
  {
   "cell_type": "code",
   "execution_count": null,
   "metadata": {},
   "outputs": [],
   "source": []
  },
  {
   "cell_type": "code",
   "execution_count": 9,
   "metadata": {},
   "outputs": [
    {
     "name": "stdout",
     "output_type": "stream",
     "text": [
      "ABC News\n"
     ]
    }
   ],
   "source": [
    "#Get the row whose number is 0.\n",
    "row = rows[0]\n",
    "#Create a variable called 'name' that calls the the variable row with option '.select_one'. \n",
    "#Use .text to get all the text in an element.\n",
    "name = row.select_one('.source-title').text.strip()\n",
    "print(name)"
   ]
  },
  {
   "cell_type": "code",
   "execution_count": 10,
   "metadata": {},
   "outputs": [
    {
     "name": "stdout",
     "output_type": "stream",
     "text": [
      "https://www.allsides.com/news-source/abc-news-media-bias\n"
     ]
    }
   ],
   "source": [
    "#Select the anchor in order to get the href that contains the link. This is different than selecting an element because you have to use the attribute.\n",
    "allsides_page = row.select_one('.source-title a')['href']\n",
    "allsides_page = 'https://www.allsides.com' + allsides_page\n",
    "\n",
    "print(allsides_page)"
   ]
  },
  {
   "cell_type": "code",
   "execution_count": 13,
   "metadata": {},
   "outputs": [
    {
     "name": "stdout",
     "output_type": "stream",
     "text": [
      "left-center\n"
     ]
    }
   ],
   "source": [
    "#Let's get the rating in words by selecting the link.\n",
    "#Create a variable called bias to put the link.\n",
    "bias = row.select_one('.views-field-field-bias-image a')['href']\n",
    "bias = bias.split('/')[-1]\n",
    "\n",
    "print(bias)"
   ]
  },
  {
   "cell_type": "code",
   "execution_count": 17,
   "metadata": {},
   "outputs": [
    {
     "name": "stdout",
     "output_type": "stream",
     "text": [
      "Agree: 11215, Disagree: 8214, Ratio 1.37\n"
     ]
    }
   ],
   "source": [
    "#Create a variable called 'agree' and select one row with the class 'agree'.\n",
    "agree = row.select_one('.agree').text\n",
    "#The result must be turned into an integer (whole number).\n",
    "agree = int(agree)\n",
    "#Create a variable called 'disagree' and select the row with the class 'disagree'.\n",
    "disagree = row.select_one('.disagree').text\n",
    "#Turn result into intger.\n",
    "disagree = int(disagree)\n",
    "#Create a variable that figures out ratio of agree/disagree ratings\n",
    "agree_ratio = agree/disagree\n",
    "#Print results\n",
    "print(f\"Agree: {agree}, Disagree: {disagree}, Ratio {agree_ratio:.2f}\")"
   ]
  },
  {
   "cell_type": "code",
   "execution_count": 18,
   "metadata": {},
   "outputs": [
    {
     "name": "stdout",
     "output_type": "stream",
     "text": [
      "strongly agrees\n"
     ]
    }
   ],
   "source": [
    "#Create a function that replicates the table's process of getting the community response (\"somewhat agree\", somewhat disagree).\n",
    "def get_agreeance_text(ratio):\n",
    "    if ratio > 3: return \"absolutely agrees\"\n",
    "    elif 2 < ratio <= 3: return \"strongly agrees\"\n",
    "    elif 1.5 < ratio <= 2: return \"agrees\"\n",
    "    elif 1 < ratio <= 1.5: return \"somewhat agrees\"\n",
    "    elif ratio == 1: return \"neutral\"\n",
    "    elif 0.67 < ratio < 1: return \"somewhat disagrees\"\n",
    "    elif 0.5 < ratio <= 0.67: return \"disagrees\"\n",
    "    elif 0.33 < ratio <= 0.5: return \"strongly disagrees\"\n",
    "    elif ratio <= 0.33: return \"absolutely disagrees\"\n",
    "    else: return None\n",
    "#Print the result for a ratio of 2.5.\n",
    "print(get_agreeance_text(2.5))"
   ]
  },
  {
   "cell_type": "code",
   "execution_count": 19,
   "metadata": {},
   "outputs": [],
   "source": [
    "#Create a loop that takes data from every row on the first page.\n",
    "data = []\n",
    "for row in rows:\n",
    "    d = dict()\n",
    "    d['name'] = row.select_one('.source-title').text.strip()\n",
    "    d['allsides_page'] = 'https://www.allsides.com' + row.select_one('.source-title a')['href']\n",
    "    d['bias'] = row.select_one('.views-field-field-bias-image a')['href'].split('/')[-1]\n",
    "    d['agree'] = int(row.select_one('.agree').text)\n",
    "    d['disagree'] = int(row.select_one('.disagree').text)\n",
    "    d['agree_ratio'] = d['agree'] / d['disagree']\n",
    "    d['agreeance_text'] = get_agreeance_text(d['agree_ratio'])\n",
    "    \n",
    "    data.append(d)   "
   ]
  },
  {
   "cell_type": "code",
   "execution_count": 20,
   "metadata": {},
   "outputs": [
    {
     "name": "stdout",
     "output_type": "stream",
     "text": [
      "{'name': 'ABC News', 'allsides_page': 'https://www.allsides.com/news-source/abc-news-media-bias', 'bias': 'left-center', 'agree': 11215, 'disagree': 8214, 'agree_ratio': 1.3653518383248113, 'agreeance_text': 'somewhat agrees'}\n"
     ]
    }
   ],
   "source": [
    "#Print the data list to see the dictionary of key info in each row.\n",
    "print(data[0])"
   ]
  },
  {
   "cell_type": "code",
   "execution_count": 21,
   "metadata": {},
   "outputs": [],
   "source": [
    "#Create a variable called 'pages' that include urls of all 3 pages.\n",
    "pages = [\n",
    "     'https://www.allsides.com/media-bias/media-bias-ratings',\n",
    "    'https://www.allsides.com/media-bias/media-bias-ratings?page=1',\n",
    "    'https://www.allsides.com/media-bias/media-bias-ratings?page=2'\n",
    "]"
   ]
  },
  {
   "cell_type": "code",
   "execution_count": 22,
   "metadata": {},
   "outputs": [],
   "source": [
    "#Import Python library to allow 10-second pause between requests.\n",
    "from time import sleep\n",
    "data = []\n",
    "#Create variables for loop.\n",
    "for page in pages:\n",
    "    r = requests.get(page)\n",
    "    soup = BeautifulSoup(r.content, 'html.parser')\n",
    "    rows = soup.select('tbody tr')\n",
    "\n",
    "    for row in rows:\n",
    "        d = dict()\n",
    "\n",
    "        d['name'] = row.select_one('.source-title').text.strip()\n",
    "        d['allsides_page'] = 'https://www.allsides.com' + row.select_one('.source-title a')['href']\n",
    "        d['bias'] = row.select_one('.views-field-field-bias-image a')['href'].split('/')[-1]\n",
    "        d['agree'] = int(row.select_one('.agree').text)\n",
    "        d['disagree'] = int(row.select_one('.disagree').text)\n",
    "        d['agree_ratio'] = d['agree'] / d['disagree']\n",
    "        d['agreeance_text'] = get_agreeance_text(d['agree_ratio'])\n",
    "\n",
    "        data.append(d)\n",
    "    \n",
    "    sleep(10)"
   ]
  },
  {
   "cell_type": "code",
   "execution_count": 24,
   "metadata": {},
   "outputs": [
    {
     "name": "stdout",
     "output_type": "stream",
     "text": [
      "Requirement already satisfied: tqdm in /Users/omccaff1/Desktop/analysis/venv/lib/python3.7/site-packages (4.32.1)\n",
      "\u001b[33mYou are using pip version 18.1, however version 19.1.1 is available.\n",
      "You should consider upgrading via the 'pip install --upgrade pip' command.\u001b[0m\n"
     ]
    }
   ],
   "source": [
    "#Install this library to give us progress bar for status of requests.\n",
    "!pip3 install tqdm"
   ]
  },
  {
   "cell_type": "code",
   "execution_count": 25,
   "metadata": {},
   "outputs": [
    {
     "ename": "NameError",
     "evalue": "name 'tqdm_notebook' is not defined",
     "output_type": "error",
     "traceback": [
      "\u001b[0;31m---------------------------------------------------------------------------\u001b[0m",
      "\u001b[0;31mNameError\u001b[0m                                 Traceback (most recent call last)",
      "\u001b[0;32m<ipython-input-25-23dfb6d7608f>\u001b[0m in \u001b[0;36m<module>\u001b[0;34m\u001b[0m\n\u001b[0;32m----> 1\u001b[0;31m \u001b[0;32mfor\u001b[0m \u001b[0md\u001b[0m \u001b[0;32min\u001b[0m \u001b[0mtqdm_notebook\u001b[0m\u001b[0;34m(\u001b[0m\u001b[0mdata\u001b[0m\u001b[0;34m)\u001b[0m\u001b[0;34m:\u001b[0m\u001b[0;34m\u001b[0m\u001b[0;34m\u001b[0m\u001b[0m\n\u001b[0m\u001b[1;32m      2\u001b[0m     \u001b[0mr\u001b[0m \u001b[0;34m=\u001b[0m \u001b[0mrequests\u001b[0m\u001b[0;34m.\u001b[0m\u001b[0mget\u001b[0m\u001b[0;34m(\u001b[0m\u001b[0md\u001b[0m\u001b[0;34m[\u001b[0m\u001b[0;34m'allsides_page'\u001b[0m\u001b[0;34m]\u001b[0m\u001b[0;34m)\u001b[0m\u001b[0;34m\u001b[0m\u001b[0;34m\u001b[0m\u001b[0m\n\u001b[1;32m      3\u001b[0m     \u001b[0msoup\u001b[0m \u001b[0;34m=\u001b[0m \u001b[0mBeautifulSoup\u001b[0m\u001b[0;34m(\u001b[0m\u001b[0mr\u001b[0m\u001b[0;34m.\u001b[0m\u001b[0mcontent\u001b[0m\u001b[0;34m,\u001b[0m \u001b[0;34m'html.parser'\u001b[0m\u001b[0;34m)\u001b[0m\u001b[0;34m\u001b[0m\u001b[0;34m\u001b[0m\u001b[0m\n\u001b[1;32m      4\u001b[0m \u001b[0;34m\u001b[0m\u001b[0m\n\u001b[1;32m      5\u001b[0m     \u001b[0;32mtry\u001b[0m\u001b[0;34m:\u001b[0m\u001b[0;34m\u001b[0m\u001b[0;34m\u001b[0m\u001b[0m\n",
      "\u001b[0;31mNameError\u001b[0m: name 'tqdm_notebook' is not defined"
     ]
    }
   ],
   "source": [
    "for d in tqdm_notebook(data):\n",
    "    r = requests.get(d['allsides_page'])\n",
    "    soup = BeautifulSoup(r.content, 'html.parser')\n",
    "    \n",
    "    try:\n",
    "        website = soup.select_one('.www')['href']\n",
    "        d['website'] = website\n",
    "    except TypeError:\n",
    "        pass\n",
    "    \n",
    "    sleep(10)"
   ]
  },
  {
   "cell_type": "code",
   "execution_count": 26,
   "metadata": {},
   "outputs": [],
   "source": [
    "#Let's save our data as JSON.\n",
    "import json\n",
    "\n",
    "with open('allsides.json', 'w') as f:\n",
    "    json.dump(data, f)"
   ]
  },
  {
   "cell_type": "code",
   "execution_count": 27,
   "metadata": {},
   "outputs": [
    {
     "name": "stdout",
     "output_type": "stream",
     "text": [
      "Outlet               Bias                \n",
      "------------------------------\n",
      "CNN - Editorial      left                \n",
      "Fox News Editorial   right               \n",
      "Jacobin              left                \n",
      "Mother Jones         left                \n",
      "New York Times - Opinion left                \n",
      "The Nation           left                \n",
      "The New Yorker       left                \n",
      "ThinkProgress        left                \n"
     ]
    }
   ],
   "source": [
    "#Let's do some data analysis. Which bias ratings does the community completely agree with?\n",
    "#Create a variable that includes all the strongest ratings.\n",
    "abs_agree = [d for d in data if d ['agreeance_text'] == 'absolutely agrees']\n",
    "print(f\"{'Outlet':<20} {'Bias':<20}\")\n",
    "print(\"-\" * 30)\n",
    "\n",
    "for d in abs_agree:\n",
    "    print(f\"{d['name']:<20} {d['bias']:<20}\")"
   ]
  },
  {
   "cell_type": "code",
   "execution_count": 28,
   "metadata": {},
   "outputs": [
    {
     "data": {
      "text/html": [
       "<div>\n",
       "<style scoped>\n",
       "    .dataframe tbody tr th:only-of-type {\n",
       "        vertical-align: middle;\n",
       "    }\n",
       "\n",
       "    .dataframe tbody tr th {\n",
       "        vertical-align: top;\n",
       "    }\n",
       "\n",
       "    .dataframe thead th {\n",
       "        text-align: right;\n",
       "    }\n",
       "</style>\n",
       "<table border=\"1\" class=\"dataframe\">\n",
       "  <thead>\n",
       "    <tr style=\"text-align: right;\">\n",
       "      <th></th>\n",
       "      <th>agree</th>\n",
       "      <th>agree_ratio</th>\n",
       "      <th>agreeance_text</th>\n",
       "      <th>allsides_page</th>\n",
       "      <th>bias</th>\n",
       "      <th>disagree</th>\n",
       "    </tr>\n",
       "    <tr>\n",
       "      <th>name</th>\n",
       "      <th></th>\n",
       "      <th></th>\n",
       "      <th></th>\n",
       "      <th></th>\n",
       "      <th></th>\n",
       "      <th></th>\n",
       "    </tr>\n",
       "  </thead>\n",
       "  <tbody>\n",
       "    <tr>\n",
       "      <th>ABC News</th>\n",
       "      <td>11215</td>\n",
       "      <td>1.365352</td>\n",
       "      <td>somewhat agrees</td>\n",
       "      <td>https://www.allsides.com/news-source/abc-news-...</td>\n",
       "      <td>left-center</td>\n",
       "      <td>8214</td>\n",
       "    </tr>\n",
       "    <tr>\n",
       "      <th>Al Jazeera</th>\n",
       "      <td>3249</td>\n",
       "      <td>0.649021</td>\n",
       "      <td>disagrees</td>\n",
       "      <td>https://www.allsides.com/news-source/al-jazeer...</td>\n",
       "      <td>center</td>\n",
       "      <td>5006</td>\n",
       "    </tr>\n",
       "    <tr>\n",
       "      <th>AlterNet</th>\n",
       "      <td>2079</td>\n",
       "      <td>2.907692</td>\n",
       "      <td>strongly agrees</td>\n",
       "      <td>https://www.allsides.com/news-source/alternet</td>\n",
       "      <td>left</td>\n",
       "      <td>715</td>\n",
       "    </tr>\n",
       "    <tr>\n",
       "      <th>American Spectator</th>\n",
       "      <td>5765</td>\n",
       "      <td>2.363674</td>\n",
       "      <td>strongly agrees</td>\n",
       "      <td>https://www.allsides.com/news-source/american-...</td>\n",
       "      <td>right</td>\n",
       "      <td>2439</td>\n",
       "    </tr>\n",
       "    <tr>\n",
       "      <th>Associated Press</th>\n",
       "      <td>6159</td>\n",
       "      <td>1.424376</td>\n",
       "      <td>somewhat agrees</td>\n",
       "      <td>https://www.allsides.com/news-source/associate...</td>\n",
       "      <td>center</td>\n",
       "      <td>4324</td>\n",
       "    </tr>\n",
       "  </tbody>\n",
       "</table>\n",
       "</div>"
      ],
      "text/plain": [
       "                    agree  agree_ratio   agreeance_text  \\\n",
       "name                                                      \n",
       "ABC News            11215     1.365352  somewhat agrees   \n",
       "Al Jazeera           3249     0.649021        disagrees   \n",
       "AlterNet             2079     2.907692  strongly agrees   \n",
       "American Spectator   5765     2.363674  strongly agrees   \n",
       "Associated Press     6159     1.424376  somewhat agrees   \n",
       "\n",
       "                                                        allsides_page  \\\n",
       "name                                                                    \n",
       "ABC News            https://www.allsides.com/news-source/abc-news-...   \n",
       "Al Jazeera          https://www.allsides.com/news-source/al-jazeer...   \n",
       "AlterNet                https://www.allsides.com/news-source/alternet   \n",
       "American Spectator  https://www.allsides.com/news-source/american-...   \n",
       "Associated Press    https://www.allsides.com/news-source/associate...   \n",
       "\n",
       "                           bias  disagree  \n",
       "name                                       \n",
       "ABC News            left-center      8214  \n",
       "Al Jazeera               center      5006  \n",
       "AlterNet                   left       715  \n",
       "American Spectator        right      2439  \n",
       "Associated Press         center      4324  "
      ]
     },
     "execution_count": 28,
     "metadata": {},
     "output_type": "execute_result"
    }
   ],
   "source": [
    "#Let's use Pandas to put the JSON data into a DataFrame.\n",
    "import pandas as pd \n",
    "df = pd.read_json(open('allsides.json', 'r'))\n",
    "df.set_index('name', inplace=True)\n",
    "df.head()"
   ]
  },
  {
   "cell_type": "code",
   "execution_count": 29,
   "metadata": {},
   "outputs": [
    {
     "data": {
      "text/html": [
       "<div>\n",
       "<style scoped>\n",
       "    .dataframe tbody tr th:only-of-type {\n",
       "        vertical-align: middle;\n",
       "    }\n",
       "\n",
       "    .dataframe tbody tr th {\n",
       "        vertical-align: top;\n",
       "    }\n",
       "\n",
       "    .dataframe thead th {\n",
       "        text-align: right;\n",
       "    }\n",
       "</style>\n",
       "<table border=\"1\" class=\"dataframe\">\n",
       "  <thead>\n",
       "    <tr style=\"text-align: right;\">\n",
       "      <th></th>\n",
       "      <th>agree</th>\n",
       "      <th>agree_ratio</th>\n",
       "      <th>agreeance_text</th>\n",
       "      <th>allsides_page</th>\n",
       "      <th>bias</th>\n",
       "      <th>disagree</th>\n",
       "    </tr>\n",
       "    <tr>\n",
       "      <th>name</th>\n",
       "      <th></th>\n",
       "      <th></th>\n",
       "      <th></th>\n",
       "      <th></th>\n",
       "      <th></th>\n",
       "      <th></th>\n",
       "    </tr>\n",
       "  </thead>\n",
       "  <tbody>\n",
       "    <tr>\n",
       "      <th>The Economist</th>\n",
       "      <td>1194</td>\n",
       "      <td>0.497707</td>\n",
       "      <td>strongly disagrees</td>\n",
       "      <td>https://www.allsides.com/news-source/economist</td>\n",
       "      <td>left-center</td>\n",
       "      <td>2399</td>\n",
       "    </tr>\n",
       "  </tbody>\n",
       "</table>\n",
       "</div>"
      ],
      "text/plain": [
       "               agree  agree_ratio      agreeance_text  \\\n",
       "name                                                    \n",
       "The Economist   1194     0.497707  strongly disagrees   \n",
       "\n",
       "                                                allsides_page         bias  \\\n",
       "name                                                                         \n",
       "The Economist  https://www.allsides.com/news-source/economist  left-center   \n",
       "\n",
       "               disagree  \n",
       "name                     \n",
       "The Economist      2399  "
      ]
     },
     "execution_count": 29,
     "metadata": {},
     "output_type": "execute_result"
    }
   ],
   "source": [
    "#Let's find the ratings for which the community strongly disagrees.\n",
    "df[df['agreeance_text'] == 'strongly disagrees']"
   ]
  },
  {
   "cell_type": "code",
   "execution_count": 30,
   "metadata": {},
   "outputs": [
    {
     "data": {
      "text/html": [
       "<div>\n",
       "<style scoped>\n",
       "    .dataframe tbody tr th:only-of-type {\n",
       "        vertical-align: middle;\n",
       "    }\n",
       "\n",
       "    .dataframe tbody tr th {\n",
       "        vertical-align: top;\n",
       "    }\n",
       "\n",
       "    .dataframe thead th {\n",
       "        text-align: right;\n",
       "    }\n",
       "</style>\n",
       "<table border=\"1\" class=\"dataframe\">\n",
       "  <thead>\n",
       "    <tr style=\"text-align: right;\">\n",
       "      <th></th>\n",
       "      <th>agree</th>\n",
       "      <th>agree_ratio</th>\n",
       "      <th>agreeance_text</th>\n",
       "      <th>allsides_page</th>\n",
       "      <th>bias</th>\n",
       "      <th>disagree</th>\n",
       "      <th>total_votes</th>\n",
       "    </tr>\n",
       "    <tr>\n",
       "      <th>name</th>\n",
       "      <th></th>\n",
       "      <th></th>\n",
       "      <th></th>\n",
       "      <th></th>\n",
       "      <th></th>\n",
       "      <th></th>\n",
       "      <th></th>\n",
       "    </tr>\n",
       "  </thead>\n",
       "  <tbody>\n",
       "    <tr>\n",
       "      <th>CNN (Web News)</th>\n",
       "      <td>25513</td>\n",
       "      <td>0.970039</td>\n",
       "      <td>somewhat disagrees</td>\n",
       "      <td>https://www.allsides.com/news-source/cnn-media...</td>\n",
       "      <td>left-center</td>\n",
       "      <td>26301</td>\n",
       "      <td>51814</td>\n",
       "    </tr>\n",
       "    <tr>\n",
       "      <th>Fox News</th>\n",
       "      <td>20030</td>\n",
       "      <td>0.675411</td>\n",
       "      <td>somewhat disagrees</td>\n",
       "      <td>https://www.allsides.com/news-source/fox-news-...</td>\n",
       "      <td>right-center</td>\n",
       "      <td>29656</td>\n",
       "      <td>49686</td>\n",
       "    </tr>\n",
       "    <tr>\n",
       "      <th>New York Times - News</th>\n",
       "      <td>14175</td>\n",
       "      <td>0.600203</td>\n",
       "      <td>disagrees</td>\n",
       "      <td>https://www.allsides.com/news-source/new-york-...</td>\n",
       "      <td>left-center</td>\n",
       "      <td>23617</td>\n",
       "      <td>37792</td>\n",
       "    </tr>\n",
       "    <tr>\n",
       "      <th>Washington Post</th>\n",
       "      <td>22944</td>\n",
       "      <td>1.622975</td>\n",
       "      <td>agrees</td>\n",
       "      <td>https://www.allsides.com/news-source/washingto...</td>\n",
       "      <td>left-center</td>\n",
       "      <td>14137</td>\n",
       "      <td>37081</td>\n",
       "    </tr>\n",
       "    <tr>\n",
       "      <th>HuffPost</th>\n",
       "      <td>17812</td>\n",
       "      <td>0.929597</td>\n",
       "      <td>somewhat disagrees</td>\n",
       "      <td>https://www.allsides.com/news-source/huffpost-...</td>\n",
       "      <td>left</td>\n",
       "      <td>19161</td>\n",
       "      <td>36973</td>\n",
       "    </tr>\n",
       "    <tr>\n",
       "      <th>Politico</th>\n",
       "      <td>12783</td>\n",
       "      <td>0.628126</td>\n",
       "      <td>disagrees</td>\n",
       "      <td>https://www.allsides.com/news-source/politico-...</td>\n",
       "      <td>left-center</td>\n",
       "      <td>20351</td>\n",
       "      <td>33134</td>\n",
       "    </tr>\n",
       "    <tr>\n",
       "      <th>NPR News</th>\n",
       "      <td>18112</td>\n",
       "      <td>1.383546</td>\n",
       "      <td>somewhat agrees</td>\n",
       "      <td>https://www.allsides.com/news-source/npr-media...</td>\n",
       "      <td>center</td>\n",
       "      <td>13091</td>\n",
       "      <td>31203</td>\n",
       "    </tr>\n",
       "    <tr>\n",
       "      <th>Washington Times</th>\n",
       "      <td>20265</td>\n",
       "      <td>1.982101</td>\n",
       "      <td>agrees</td>\n",
       "      <td>https://www.allsides.com/news-source/washingto...</td>\n",
       "      <td>right-center</td>\n",
       "      <td>10224</td>\n",
       "      <td>30489</td>\n",
       "    </tr>\n",
       "    <tr>\n",
       "      <th>Wall Street Journal - News</th>\n",
       "      <td>11393</td>\n",
       "      <td>0.666959</td>\n",
       "      <td>disagrees</td>\n",
       "      <td>https://www.allsides.com/news-source/wall-stre...</td>\n",
       "      <td>center</td>\n",
       "      <td>17082</td>\n",
       "      <td>28475</td>\n",
       "    </tr>\n",
       "    <tr>\n",
       "      <th>Townhall</th>\n",
       "      <td>8550</td>\n",
       "      <td>0.639013</td>\n",
       "      <td>disagrees</td>\n",
       "      <td>https://www.allsides.com/news-source/townhall-...</td>\n",
       "      <td>right</td>\n",
       "      <td>13380</td>\n",
       "      <td>21930</td>\n",
       "    </tr>\n",
       "  </tbody>\n",
       "</table>\n",
       "</div>"
      ],
      "text/plain": [
       "                            agree  agree_ratio      agreeance_text  \\\n",
       "name                                                                 \n",
       "CNN (Web News)              25513     0.970039  somewhat disagrees   \n",
       "Fox News                    20030     0.675411  somewhat disagrees   \n",
       "New York Times - News       14175     0.600203           disagrees   \n",
       "Washington Post             22944     1.622975              agrees   \n",
       "HuffPost                    17812     0.929597  somewhat disagrees   \n",
       "Politico                    12783     0.628126           disagrees   \n",
       "NPR News                    18112     1.383546     somewhat agrees   \n",
       "Washington Times            20265     1.982101              agrees   \n",
       "Wall Street Journal - News  11393     0.666959           disagrees   \n",
       "Townhall                     8550     0.639013           disagrees   \n",
       "\n",
       "                                                                allsides_page  \\\n",
       "name                                                                            \n",
       "CNN (Web News)              https://www.allsides.com/news-source/cnn-media...   \n",
       "Fox News                    https://www.allsides.com/news-source/fox-news-...   \n",
       "New York Times - News       https://www.allsides.com/news-source/new-york-...   \n",
       "Washington Post             https://www.allsides.com/news-source/washingto...   \n",
       "HuffPost                    https://www.allsides.com/news-source/huffpost-...   \n",
       "Politico                    https://www.allsides.com/news-source/politico-...   \n",
       "NPR News                    https://www.allsides.com/news-source/npr-media...   \n",
       "Washington Times            https://www.allsides.com/news-source/washingto...   \n",
       "Wall Street Journal - News  https://www.allsides.com/news-source/wall-stre...   \n",
       "Townhall                    https://www.allsides.com/news-source/townhall-...   \n",
       "\n",
       "                                    bias  disagree  total_votes  \n",
       "name                                                             \n",
       "CNN (Web News)               left-center     26301        51814  \n",
       "Fox News                    right-center     29656        49686  \n",
       "New York Times - News        left-center     23617        37792  \n",
       "Washington Post              left-center     14137        37081  \n",
       "HuffPost                            left     19161        36973  \n",
       "Politico                     left-center     20351        33134  \n",
       "NPR News                          center     13091        31203  \n",
       "Washington Times            right-center     10224        30489  \n",
       "Wall Street Journal - News        center     17082        28475  \n",
       "Townhall                           right     13380        21930  "
      ]
     },
     "execution_count": 30,
     "metadata": {},
     "output_type": "execute_result"
    }
   ],
   "source": [
    "#Time for a visualization of the community reactions with the most votes.\n",
    "df['total_votes'] = df['agree'] + df['disagree']\n",
    "df.sort_values('total_votes', ascending=False, inplace=True)\n",
    "\n",
    "df.head(10)"
   ]
  },
  {
   "cell_type": "code",
   "execution_count": 35,
   "metadata": {},
   "outputs": [
    {
     "data": {
      "text/html": [
       "<div>\n",
       "<style scoped>\n",
       "    .dataframe tbody tr th:only-of-type {\n",
       "        vertical-align: middle;\n",
       "    }\n",
       "\n",
       "    .dataframe tbody tr th {\n",
       "        vertical-align: top;\n",
       "    }\n",
       "\n",
       "    .dataframe thead th {\n",
       "        text-align: right;\n",
       "    }\n",
       "</style>\n",
       "<table border=\"1\" class=\"dataframe\">\n",
       "  <thead>\n",
       "    <tr style=\"text-align: right;\">\n",
       "      <th></th>\n",
       "      <th>agree</th>\n",
       "      <th>agree_ratio</th>\n",
       "      <th>agreeance_text</th>\n",
       "      <th>allsides_page</th>\n",
       "      <th>bias</th>\n",
       "      <th>disagree</th>\n",
       "      <th>total_votes</th>\n",
       "    </tr>\n",
       "    <tr>\n",
       "      <th>name</th>\n",
       "      <th></th>\n",
       "      <th></th>\n",
       "      <th></th>\n",
       "      <th></th>\n",
       "      <th></th>\n",
       "      <th></th>\n",
       "      <th></th>\n",
       "    </tr>\n",
       "  </thead>\n",
       "  <tbody>\n",
       "    <tr>\n",
       "      <th>CNN (Web News)</th>\n",
       "      <td>25513</td>\n",
       "      <td>0.970039</td>\n",
       "      <td>somewhat disagrees</td>\n",
       "      <td>https://www.allsides.com/news-source/cnn-media...</td>\n",
       "      <td>left-center</td>\n",
       "      <td>26301</td>\n",
       "      <td>51814</td>\n",
       "    </tr>\n",
       "    <tr>\n",
       "      <th>Fox News</th>\n",
       "      <td>20030</td>\n",
       "      <td>0.675411</td>\n",
       "      <td>somewhat disagrees</td>\n",
       "      <td>https://www.allsides.com/news-source/fox-news-...</td>\n",
       "      <td>right-center</td>\n",
       "      <td>29656</td>\n",
       "      <td>49686</td>\n",
       "    </tr>\n",
       "    <tr>\n",
       "      <th>New York Times - News</th>\n",
       "      <td>14175</td>\n",
       "      <td>0.600203</td>\n",
       "      <td>disagrees</td>\n",
       "      <td>https://www.allsides.com/news-source/new-york-...</td>\n",
       "      <td>left-center</td>\n",
       "      <td>23617</td>\n",
       "      <td>37792</td>\n",
       "    </tr>\n",
       "    <tr>\n",
       "      <th>Washington Post</th>\n",
       "      <td>22944</td>\n",
       "      <td>1.622975</td>\n",
       "      <td>agrees</td>\n",
       "      <td>https://www.allsides.com/news-source/washingto...</td>\n",
       "      <td>left-center</td>\n",
       "      <td>14137</td>\n",
       "      <td>37081</td>\n",
       "    </tr>\n",
       "    <tr>\n",
       "      <th>HuffPost</th>\n",
       "      <td>17812</td>\n",
       "      <td>0.929597</td>\n",
       "      <td>somewhat disagrees</td>\n",
       "      <td>https://www.allsides.com/news-source/huffpost-...</td>\n",
       "      <td>left</td>\n",
       "      <td>19161</td>\n",
       "      <td>36973</td>\n",
       "    </tr>\n",
       "  </tbody>\n",
       "</table>\n",
       "</div>"
      ],
      "text/plain": [
       "                       agree  agree_ratio      agreeance_text  \\\n",
       "name                                                            \n",
       "CNN (Web News)         25513     0.970039  somewhat disagrees   \n",
       "Fox News               20030     0.675411  somewhat disagrees   \n",
       "New York Times - News  14175     0.600203           disagrees   \n",
       "Washington Post        22944     1.622975              agrees   \n",
       "HuffPost               17812     0.929597  somewhat disagrees   \n",
       "\n",
       "                                                           allsides_page  \\\n",
       "name                                                                       \n",
       "CNN (Web News)         https://www.allsides.com/news-source/cnn-media...   \n",
       "Fox News               https://www.allsides.com/news-source/fox-news-...   \n",
       "New York Times - News  https://www.allsides.com/news-source/new-york-...   \n",
       "Washington Post        https://www.allsides.com/news-source/washingto...   \n",
       "HuffPost               https://www.allsides.com/news-source/huffpost-...   \n",
       "\n",
       "                               bias  disagree  total_votes  \n",
       "name                                                        \n",
       "CNN (Web News)          left-center     26301        51814  \n",
       "Fox News               right-center     29656        49686  \n",
       "New York Times - News   left-center     23617        37792  \n",
       "Washington Post         left-center     14137        37081  \n",
       "HuffPost                       left     19161        36973  "
      ]
     },
     "execution_count": 35,
     "metadata": {},
     "output_type": "execute_result"
    }
   ],
   "source": [
    "#Let's create a second dataframe that only includes data we want to plot.\n",
    "df2 = df.head(25).copy()\n",
    "\n",
    "df2.head()"
   ]
  },
  {
   "cell_type": "code",
   "execution_count": null,
   "metadata": {},
   "outputs": [],
   "source": []
  },
  {
   "cell_type": "code",
   "execution_count": null,
   "metadata": {},
   "outputs": [],
   "source": []
  }
 ],
 "metadata": {
  "kernelspec": {
   "display_name": "Python 3",
   "language": "python",
   "name": "python3"
  },
  "language_info": {
   "codemirror_mode": {
    "name": "ipython",
    "version": 3
   },
   "file_extension": ".py",
   "mimetype": "text/x-python",
   "name": "python",
   "nbconvert_exporter": "python",
   "pygments_lexer": "ipython3",
   "version": "3.7.2"
  }
 },
 "nbformat": 4,
 "nbformat_minor": 2
}
